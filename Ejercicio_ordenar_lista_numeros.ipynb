{
  "nbformat": 4,
  "nbformat_minor": 0,
  "metadata": {
    "colab": {
      "provenance": [],
      "authorship_tag": "ABX9TyMU7jNnt+0Eha3DI8jt96qS",
      "include_colab_link": true
    },
    "kernelspec": {
      "name": "python3",
      "display_name": "Python 3"
    },
    "language_info": {
      "name": "python"
    }
  },
  "cells": [
    {
      "cell_type": "markdown",
      "metadata": {
        "id": "view-in-github",
        "colab_type": "text"
      },
      "source": [
        "<a href=\"https://colab.research.google.com/github/mariakrainer/Calculo-Numerico-Maria-Belen-Krainer-Romero/blob/main/Ejercicio_ordenar_lista_numeros.ipynb\" target=\"_parent\"><img src=\"https://colab.research.google.com/assets/colab-badge.svg\" alt=\"Open In Colab\"/></a>"
      ]
    },
    {
      "cell_type": "code",
      "execution_count": 23,
      "metadata": {
        "colab": {
          "base_uri": "https://localhost:8080/"
        },
        "id": "4eYe3J0elGW-",
        "outputId": "45f5a1b1-11b9-4016-b248-30fb2e07e40b"
      },
      "outputs": [
        {
          "output_type": "stream",
          "name": "stdout",
          "text": [
            "Lista sin ordenar: [5, 4, 3, 2, 1] \n",
            "\n",
            "__________________________________________________________\n",
            "\n",
            "Lista ordenada de menor a mayor: [1, 2, 3, 4, 5]\n"
          ]
        }
      ],
      "source": [
        "lista=[5,4,3,2,1]\n",
        "print(f\"Lista sin ordenar: {lista} \\n\")\n",
        "\n",
        "for posicion in range(len(lista)):\n",
        "  numero_min = lista[posicion]\n",
        "  for numero in range(posicion+1,len(lista)):\n",
        "    if lista[numero] <= numero_min:\n",
        "        numero_min = lista[numero]\n",
        "        lista[posicion],lista[numero]=lista[numero],lista[posicion]\n",
        "        # print(lista)\n",
        "\n",
        "print(\"__________________________________________________________\\n\")\n",
        "print(f\"Lista ordenada de menor a mayor: {lista}\")"
      ]
    }
  ]
}