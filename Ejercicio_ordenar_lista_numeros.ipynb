{
  "nbformat": 4,
  "nbformat_minor": 0,
  "metadata": {
    "colab": {
      "provenance": [],
      "authorship_tag": "ABX9TyPmJGzdVT7JmbsSusZ0PVHd",
      "include_colab_link": true
    },
    "kernelspec": {
      "name": "python3",
      "display_name": "Python 3"
    },
    "language_info": {
      "name": "python"
    }
  },
  "cells": [
    {
      "cell_type": "markdown",
      "metadata": {
        "id": "view-in-github",
        "colab_type": "text"
      },
      "source": [
        "<a href=\"https://colab.research.google.com/github/mariakrainer/Calculo-Numerico-Maria-Belen-Krainer-Romero/blob/main/Ejercicio_ordenar_lista_numeros.ipynb\" target=\"_parent\"><img src=\"https://colab.research.google.com/assets/colab-badge.svg\" alt=\"Open In Colab\"/></a>"
      ]
    },
    {
      "cell_type": "code",
      "execution_count": 14,
      "metadata": {
        "colab": {
          "base_uri": "https://localhost:8080/"
        },
        "id": "4eYe3J0elGW-",
        "outputId": "0a5ab117-74c4-41c4-e488-ffea99c1e5a5"
      },
      "outputs": [
        {
          "output_type": "stream",
          "name": "stdout",
          "text": [
            "Lista sin ordenar: [5, 4, 3, 2, 1]\n",
            "\n",
            "---------------------------------------\n",
            "\n",
            "Lista ordenada de menor a mayor: [1, 2, 3, 4, 5]\n"
          ]
        }
      ],
      "source": [
        "lista=[5,4,3,2,1]\n",
        "print(f\"Lista sin ordenar: {lista}\")\n",
        "\n",
        "for posicion in range(len(lista)):\n",
        "  numero_min = lista[posicion]\n",
        "  for numero in range(posicion+1,len(lista)):\n",
        "    if lista[numero] <= numero_min:\n",
        "        numero_min = lista[numero]\n",
        "        lista[posicion],lista[numero]=lista[numero],lista[posicion]\n",
        "        # print(lista)\n",
        "\n",
        "print(\"\\n---------------------------------------\\n\")\n",
        "print(f\"Lista ordenada de menor a mayor: {lista}\")"
      ]
    }
  ]
}