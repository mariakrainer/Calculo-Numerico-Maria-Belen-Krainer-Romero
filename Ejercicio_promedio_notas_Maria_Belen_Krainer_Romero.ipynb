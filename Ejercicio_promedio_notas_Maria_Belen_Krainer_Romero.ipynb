{
  "nbformat": 4,
  "nbformat_minor": 0,
  "metadata": {
    "colab": {
      "provenance": [],
      "authorship_tag": "ABX9TyNopXaXPTM10x6xVw/w3rnP",
      "include_colab_link": true
    },
    "kernelspec": {
      "name": "python3",
      "display_name": "Python 3"
    },
    "language_info": {
      "name": "python"
    }
  },
  "cells": [
    {
      "cell_type": "markdown",
      "metadata": {
        "id": "view-in-github",
        "colab_type": "text"
      },
      "source": [
        "<a href=\"https://colab.research.google.com/github/mariakrainer/Promedio-Notas/blob/main/Ejercicio_promedio_notas_Maria_Belen_Krainer_Romero.ipynb\" target=\"_parent\"><img src=\"https://colab.research.google.com/assets/colab-badge.svg\" alt=\"Open In Colab\"/></a>"
      ]
    },
    {
      "cell_type": "markdown",
      "source": [
        "**Ejercicio 1 - Maria Belen Krainer Romero**"
      ],
      "metadata": {
        "id": "wyKYsja4PUPQ"
      }
    },
    {
      "cell_type": "code",
      "source": [
        "students = [\n",
        "    {\"nombre\": \"José\", \"notas\": [85, 90, 78, -10]},\n",
        "    {\"nombre\": \"Carlos\", \"notas\": [88, 72, 94, 102]},\n",
        "    {\"nombre\": \"María\", \"notas\": [95, 85, 87, \"A++\"]}\n",
        "]\n",
        "\n",
        "def limpieza(notas):\n",
        "  limpieza_notas=[]\n",
        "  for nota in notas:\n",
        "    if isinstance(nota, (int,float)) and nota>=0 and nota<=100:\n",
        "      limpieza_notas.append(nota)\n",
        "    else:\n",
        "      print(f\"Nota invalida de {nombre} encontrada y eliminada:  {nota} .\")\n",
        "  return limpieza_notas\n",
        "\n",
        "def promedio(limpieza_notas):\n",
        "  suma=0\n",
        "  promedio_notas=0\n",
        "  for nota in limpieza_notas:\n",
        "      if nota!=None:\n",
        "        suma+=nota\n",
        "        promedio_notas=suma/len(limpieza_notas)\n",
        "  return promedio_notas\n",
        "\n",
        "for student in students:\n",
        "  # print(student[\"nombre\"])\n",
        "  # print(student[\"notas\"])\n",
        "  nombre=student[\"nombre\"]\n",
        "  notas=student[\"notas\"]\n",
        "  # print(nombre)\n",
        "  limpieza_notas=limpieza(notas)\n",
        "  promedio_notas=promedio(limpieza_notas)\n",
        "  # print(limpieza_notas)\n",
        "  if promedio_notas==0:\n",
        "    print(\"No es posible calcular el promedio\")\n",
        "  else:\n",
        "    print(f\"El promedio de {nombre} es:  {promedio_notas}\")\n",
        "\n"
      ],
      "metadata": {
        "colab": {
          "base_uri": "https://localhost:8080/"
        },
        "id": "PuRFD9YyPxT5",
        "outputId": "9130b2a9-d006-4a28-e8ec-bfd803e8bf05"
      },
      "execution_count": null,
      "outputs": [
        {
          "output_type": "stream",
          "name": "stdout",
          "text": [
            "Nota invalida de José encontrada y eliminada:  -10 .\n",
            "El promedio de José es:  84.33333333333333\n",
            "Nota invalida de Carlos encontrada y eliminada:  102 .\n",
            "El promedio de Carlos es:  84.66666666666667\n",
            "Nota invalida de María encontrada y eliminada:  A++ .\n",
            "El promedio de María es:  89.0\n"
          ]
        }
      ]
    }
  ]
}